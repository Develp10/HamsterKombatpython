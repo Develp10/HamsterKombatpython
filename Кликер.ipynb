{
 "cells": [
  {
   "cell_type": "markdown",
   "metadata": {},
   "source": [
    "Весь план:\n",
    "\n",
    "1. скачать ADB, распаковать в удобное место\n",
    "https://dl.google.com/android/repository/platform-tools-latest-windows.zip\n",
    "\n",
    "2. прописать путь к `adb.exe` в переменную PATH\n",
    "\n",
    " — вместе 1-2 можно просто — `choco install adb`\n",
    "\n",
    "3. готово, можно использовать команду — `adb shell input tap 535 1340`\n",
    "   (делает клик по координатам `(535, 1340)`)\n",
    "\n",
    "4. заворачиваем в цикл, улучшаем..."
   ]
  },
  {
   "cell_type": "code",
   "execution_count": 27,
   "metadata": {},
   "outputs": [
    {
     "data": {
      "text/plain": [
       "CompletedProcess(args=['powershell.exe', '\\nfor ($i=0; $i -lt 10; $i++) {\\n    adb shell input tap 535 1340\\n}\\n'], returncode=0)"
      ]
     },
     "execution_count": 27,
     "metadata": {},
     "output_type": "execute_result"
    }
   ],
   "source": [
    "import subprocess\n",
    "\n",
    "command = '''\n",
    "for ($i=0; $i -lt 10; $i++) {\n",
    "    adb shell input tap 535 1340\n",
    "}\n",
    "'''\n",
    "\n",
    "subprocess.run(['powershell.exe', command])"
   ]
  },
  {
   "cell_type": "code",
   "execution_count": 30,
   "metadata": {},
   "outputs": [],
   "source": [
    "import subprocess\n",
    "\n",
    "command = 'adb shell input tap {x} {y}'\n",
    "\n",
    "for _ in range(10):\n",
    "    subprocess.run(['powershell.exe', command.format(x=535, y=1340)])"
   ]
  },
  {
   "cell_type": "code",
   "execution_count": 32,
   "metadata": {},
   "outputs": [],
   "source": [
    "import subprocess\n",
    "from random import randint\n",
    "from time import sleep\n",
    "\n",
    "command = 'adb shell input tap {x} {y}'\n",
    "\n",
    "for _ in range(30):\n",
    "    x = randint(500, 600)\n",
    "    y = randint(1300, 1400)\n",
    "    subprocess.run(['powershell.exe', command.format(x=x, y=y)])\n",
    "    sleep(randint(0, 30)/100)"
   ]
  }
 ],
 "metadata": {
  "kernelspec": {
   "display_name": "Python 3",
   "language": "python",
   "name": "python3"
  },
  "language_info": {
   "codemirror_mode": {
    "name": "ipython",
    "version": 3
   },
   "file_extension": ".py",
   "mimetype": "text/x-python",
   "name": "python",
   "nbconvert_exporter": "python",
   "pygments_lexer": "ipython3",
   "version": "3.12.3"
  }
 },
 "nbformat": 4,
 "nbformat_minor": 2
}
